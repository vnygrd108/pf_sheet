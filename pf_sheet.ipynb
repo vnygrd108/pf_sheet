{
 "cells": [
  {
   "cell_type": "code",
   "execution_count": null,
   "id": "1a63af34",
   "metadata": {},
   "outputs": [
    {
     "name": "stderr",
     "output_type": "stream",
     "text": [
      "C:\\Users\\grd00\\AppData\\Local\\Temp\\ipykernel_27900\\1044111356.py:9: SettingWithCopyWarning: \n",
      "A value is trying to be set on a copy of a slice from a DataFrame.\n",
      "Try using .loc[row_indexer,col_indexer] = value instead\n",
      "\n",
      "See the caveats in the documentation: https://pandas.pydata.org/pandas-docs/stable/user_guide/indexing.html#returning-a-view-versus-a-copy\n",
      "  pf['UAN Number'] = pf['UAN Number'].astype('Int64').astype(str)\n"
     ]
    }
   ],
   "source": [
    "import pandas as pd\n",
    "\n",
    "# Read the Excel file into a DataFrame\n",
    "df = pd.read_excel('test2.xlsx')\n",
    "\n",
    "# Display the DataFrame\n",
    "df.head()\n",
    "pf = df[['Employee Name','UAN Number','PF Number','Basic','DA','Employee PF','Actual Monthly Gross']]\n",
    "pf['UAN Number'] = pf['UAN Number'].astype('Int64').astype(str)\n",
    "pf = pf.dropna()\n",
    "pf2 = pf.reset_index(drop=True)\n",
    "pf2['Total'] = pf2['Basic'] + pf2['DA']\n",
    "pf2['PF 12%'] = pf2['Total']*0.12\n",
    "pf2['Pen'] = pf2['Total']*.0833\n",
    "pf2['Bal'] = pf2['PF 12%']-pf2['Pen']\n",
    "cols_to_convert = ['PF 12%', 'Pen', 'Bal']\n",
    "pf2[cols_to_convert] = pf2[cols_to_convert].astype(int)\n",
    "pf3 = pf2[['Employee Name','UAN Number','PF Number','Basic','DA','Total','PF 12%','Bal','Pen','Actual Monthly Gross']]\n",
    "pf3.insert(0, 'Sr. No.', range(1, len(pf3) + 1))\n",
    "insert_pos = len(pf3.columns) - 1\n",
    "pf3.insert(insert_pos, 'Project', '')\n",
    "pf3\n",
    "pf3.to_excel('Prayag_2025-26.xlsx', index=False)"
   ]
  },
  {
   "cell_type": "code",
   "execution_count": null,
   "id": "428cb060",
   "metadata": {},
   "outputs": [],
   "source": []
  },
  {
   "cell_type": "code",
   "execution_count": null,
   "id": "31b94e23",
   "metadata": {},
   "outputs": [],
   "source": []
  },
  {
   "cell_type": "code",
   "execution_count": null,
   "id": "14984f90",
   "metadata": {},
   "outputs": [],
   "source": []
  }
 ],
 "metadata": {
  "kernelspec": {
   "display_name": "base",
   "language": "python",
   "name": "python3"
  },
  "language_info": {
   "codemirror_mode": {
    "name": "ipython",
    "version": 3
   },
   "file_extension": ".py",
   "mimetype": "text/x-python",
   "name": "python",
   "nbconvert_exporter": "python",
   "pygments_lexer": "ipython3",
   "version": "3.12.4"
  }
 },
 "nbformat": 4,
 "nbformat_minor": 5
}
